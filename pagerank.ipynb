{
 "cells": [
  {
   "cell_type": "code",
   "execution_count": 1,
   "metadata": {},
   "outputs": [],
   "source": [
    "import numpy as np\n",
    "import matplotlib.pyplot as plt\n",
    "import time"
   ]
  },
  {
   "cell_type": "code",
   "execution_count": 2,
   "metadata": {},
   "outputs": [],
   "source": [
    "def random_matrix(N):\n",
    "    # Establish minimum value in order to column check in while loop\n",
    "    minval = 0.0\n",
    "    \n",
    "    while(minval == 0.0):\n",
    "    \n",
    "        M = [[np.random.randint(0,2) for i in range(N)] for j in range(N)]\n",
    "    \n",
    "    #all_zeros = np.all(0)\n",
    "    # establishes diagonal of zeros \n",
    "        for i in range(N):\n",
    "            M[i][i] = 0.0\n",
    "    # if 1 in (i,j) position then for loop established a LINK from site j to site i    \n",
    "        for i in range(N):\n",
    "            for j in range(N):\n",
    "                M[i][j] = M[j][i]\n",
    "    # return matrix determined by input (N) if column sum does not equal zero, if zero repeat\n",
    "        Col_sum = np.sum(M,axis = 1)\n",
    "    \n",
    "        minval = np.amin(Col_sum)\n",
    "        \n",
    "\n",
    "        return M      \n",
    "            \n",
    "\n"
   ]
  },
  {
   "cell_type": "code",
   "execution_count": 3,
   "metadata": {},
   "outputs": [
    {
     "name": "stdout",
     "output_type": "stream",
     "text": [
      "[[0. 0. 1. 1. 1.]\n",
      " [0. 0. 1. 1. 1.]\n",
      " [1. 1. 0. 1. 0.]\n",
      " [1. 1. 1. 0. 1.]\n",
      " [1. 1. 0. 1. 0.]]\n"
     ]
    }
   ],
   "source": [
    "# Calls matrix function to create our first 5x5 matrix\n",
    "MatrixA = np.array(random_matrix(5))\n",
    "\n",
    "print(MatrixA)"
   ]
  },
  {
   "cell_type": "code",
   "execution_count": 4,
   "metadata": {},
   "outputs": [
    {
     "name": "stdout",
     "output_type": "stream",
     "text": [
      "[[1. 0. 0. 0. 0.]\n",
      " [0. 1. 0. 0. 0.]\n",
      " [0. 0. 1. 0. 0.]\n",
      " [0. 0. 0. 1. 0.]\n",
      " [0. 0. 0. 0. 1.]]\n"
     ]
    }
   ],
   "source": [
    "# Create identity matrix for NxN Matrix (needed for Method 1)\n",
    "def Identity(N):\n",
    "    return np.eye(N)\n",
    "\n",
    "print(Identity(5))"
   ]
  },
  {
   "cell_type": "code",
   "execution_count": 5,
   "metadata": {},
   "outputs": [
    {
     "name": "stdout",
     "output_type": "stream",
     "text": [
      "[[0.         0.         0.33333333 0.25       0.33333333]\n",
      " [0.         0.         0.33333333 0.25       0.33333333]\n",
      " [0.33333333 0.33333333 0.         0.25       0.        ]\n",
      " [0.33333333 0.33333333 0.33333333 0.         0.33333333]\n",
      " [0.33333333 0.33333333 0.         0.25       0.        ]]\n"
     ]
    }
   ],
   "source": [
    "#Part 2A.\n",
    "column_sum = np.sum(MatrixA, axis=0)\n",
    "# combines column sum with Matrix 1 total in order to achieve adjacency Matrix\n",
    "adjMatrix = MatrixA / column_sum\n",
    "#print(np.array(adjMatrix))\n",
    "modadjMatrix = np.array(adjMatrix)\n",
    "print(modadjMatrix)"
   ]
  },
  {
   "cell_type": "code",
   "execution_count": 6,
   "metadata": {},
   "outputs": [],
   "source": [
    "#2b Method 1 (obtain R column vector of pageranks)\n",
    "\n",
    "\n",
    "def Method1(d,N,M,coeff):\n",
    "    \n",
    "    R_unnorm = np.linalg.solve((Identity(N) - d*M), (1 - d/N) * coeff)\n",
    " \n",
    "    # Normalize R DirectMethod\n",
    "    Rnorm = (1. / np.linalg.norm(R_unnorm)) * R_unnorm\n",
    "    \n",
    "    return np.array(Rnorm)\n",
    "    "
   ]
  },
  {
   "cell_type": "code",
   "execution_count": 7,
   "metadata": {},
   "outputs": [],
   "source": [
    "def Method2(d,N,M,E):\n",
    "    #establish our \"guess\" vectors and important initialized values or normalization and err\n",
    "\n",
    "    x_i = np.ones((N))\n",
    "    Mhat = d*M + ((1-d)/N)*E\n",
    "    x_n = np.linalg.norm(x_i)\n",
    "    x1 = x_i / x_n\n",
    "    err = 1.0\n",
    "    #while loop created because termination criterion is established\n",
    "    while(err > 1E-6):\n",
    "        \n",
    "        xn = np.dot(Mhat, x1)\n",
    "        \n",
    "        #Normalize xn\n",
    "        \n",
    "        xn = (1 / np.linalg.norm(xn)) * xn\n",
    "        \n",
    "        err = np.linalg.norm((xn - x1))\n",
    "        \n",
    "        \n",
    "        \n",
    "        #Renormalize xk vector\n",
    "        \n",
    "        x1 = xn\n",
    "         \n",
    "    \n",
    "    return np.array(xn)"
   ]
  },
  {
   "cell_type": "code",
   "execution_count": 8,
   "metadata": {},
   "outputs": [
    {
     "name": "stdout",
     "output_type": "stream",
     "text": [
      "[0.41997858 0.41997858 0.41997858 0.54265273 0.41997858]\n"
     ]
    }
   ],
   "source": [
    "# R Vector 1 for DIRECT METHOD N=5 (NORMALIZED):\n",
    "RVector = Method1(.85,5,modadjMatrix,np.ones(5))\n",
    "print(RVector)\n"
   ]
  },
  {
   "cell_type": "code",
   "execution_count": 9,
   "metadata": {},
   "outputs": [
    {
     "name": "stdout",
     "output_type": "stream",
     "text": [
      "[0.41997855 0.41997855 0.41997855 0.54265282 0.41997855]\n"
     ]
    }
   ],
   "source": [
    "# Power Method result N=5: \n",
    "\n",
    "Eigenvec = Method2(.85,5,modadjMatrix,np.ones((5,5)))\n",
    "print(Eigenvec)\n"
   ]
  },
  {
   "cell_type": "code",
   "execution_count": 10,
   "metadata": {},
   "outputs": [
    {
     "name": "stdout",
     "output_type": "stream",
     "text": [
      "2.21E-04\n",
      "9.97E-04\n"
     ]
    }
   ],
   "source": [
    "#Plots Time for each method N=5, REPEATED THROUGHOUT FOR OTHER N VALUES\n",
    "\n",
    "start_time = time.time()\n",
    "Method1(.85,5,modadjMatrix,np.ones(5))\n",
    "Method1n5_cost = ((time.time() - start_time))\n",
    "print(\"%.2E\" %Method1n5_cost)\n",
    "\n",
    "Method2(.85,5,modadjMatrix,np.ones((5,5)))\n",
    "Method2n5_cost = ((time.time() - start_time))\n",
    "print(\"%.2E\" % Method2n5_cost)\n"
   ]
  },
  {
   "cell_type": "code",
   "execution_count": 11,
   "metadata": {},
   "outputs": [
    {
     "name": "stdout",
     "output_type": "stream",
     "text": [
      "[[0. 0. 1. 1. 0. 1. 1. 1. 1. 1.]\n",
      " [0. 0. 0. 0. 0. 0. 1. 0. 0. 1.]\n",
      " [1. 0. 0. 1. 1. 0. 1. 1. 0. 1.]\n",
      " [1. 0. 1. 0. 1. 0. 1. 1. 0. 1.]\n",
      " [0. 0. 1. 1. 0. 0. 1. 0. 0. 1.]\n",
      " [1. 0. 0. 0. 0. 0. 0. 1. 0. 1.]\n",
      " [1. 1. 1. 1. 1. 0. 0. 0. 0. 0.]\n",
      " [1. 0. 1. 1. 0. 1. 0. 0. 1. 0.]\n",
      " [1. 0. 0. 0. 0. 0. 0. 1. 0. 1.]\n",
      " [1. 1. 1. 1. 1. 1. 0. 0. 1. 0.]]\n",
      "[[0.         0.         0.14285714 0.14285714 0.         0.14285714\n",
      "  0.14285714 0.14285714 0.14285714 0.14285714]\n",
      " [0.         0.         0.         0.         0.         0.\n",
      "  0.5        0.         0.         0.5       ]\n",
      " [0.16666667 0.         0.         0.16666667 0.16666667 0.\n",
      "  0.16666667 0.16666667 0.         0.16666667]\n",
      " [0.16666667 0.         0.16666667 0.         0.16666667 0.\n",
      "  0.16666667 0.16666667 0.         0.16666667]\n",
      " [0.         0.         0.25       0.25       0.         0.\n",
      "  0.25       0.         0.         0.25      ]\n",
      " [0.33333333 0.         0.         0.         0.         0.\n",
      "  0.         0.33333333 0.         0.33333333]\n",
      " [0.2        0.2        0.2        0.2        0.2        0.\n",
      "  0.         0.         0.         0.        ]\n",
      " [0.2        0.         0.2        0.2        0.         0.2\n",
      "  0.         0.         0.2        0.        ]\n",
      " [0.33333333 0.         0.         0.         0.         0.\n",
      "  0.         0.33333333 0.         0.33333333]\n",
      " [0.14285714 0.14285714 0.14285714 0.14285714 0.14285714 0.14285714\n",
      "  0.         0.         0.14285714 0.        ]]\n"
     ]
    }
   ],
   "source": [
    "MatrixA1 = np.matrix(random_matrix(10))\n",
    "print(MatrixA1)\n",
    "#Part 2A.\n",
    "column_sum = np.sum(MatrixA1, axis=1)\n",
    "# combines column sum with Matrix 1 total in order to achieve adjacency Matrix\n",
    "adjMatrix = MatrixA1 / column_sum\n",
    "#print(np.array(adjMatrix))\n",
    "modadjMatrixn10 = np.matrix(adjMatrix)\n",
    "print(modadjMatrixn10)"
   ]
  },
  {
   "cell_type": "code",
   "execution_count": 12,
   "metadata": {},
   "outputs": [
    {
     "name": "stdout",
     "output_type": "stream",
     "text": [
      "3.07E-03\n",
      "3.62E-03\n"
     ]
    }
   ],
   "source": [
    "#TIME FOR N=10\n",
    "start_time = time.time()\n",
    "Method1(.85,10,modadjMatrixn10,np.ones(10))\n",
    "Method1n10_cost = ((time.time() - start_time))\n",
    "print(\"%.2E\" %Method1n10_cost)\n",
    "\n",
    "Method2(.85,10,modadjMatrixn10,np.ones((10,10)))\n",
    "Method2n10_cost = ((time.time() - start_time))\n",
    "print(\"%.2E\" % Method2n10_cost)"
   ]
  },
  {
   "cell_type": "code",
   "execution_count": 13,
   "metadata": {},
   "outputs": [
    {
     "name": "stdout",
     "output_type": "stream",
     "text": [
      "[[0. 0. 1. ... 0. 0. 1.]\n",
      " [0. 0. 1. ... 0. 0. 1.]\n",
      " [1. 1. 0. ... 0. 1. 0.]\n",
      " ...\n",
      " [0. 0. 0. ... 0. 1. 1.]\n",
      " [0. 0. 1. ... 1. 0. 0.]\n",
      " [1. 1. 0. ... 1. 0. 0.]]\n",
      "[[0.         0.         0.03703704 ... 0.         0.         0.03703704]\n",
      " [0.         0.         0.04761905 ... 0.         0.         0.04761905]\n",
      " [0.04347826 0.04347826 0.         ... 0.         0.04347826 0.        ]\n",
      " ...\n",
      " [0.         0.         0.         ... 0.         0.04761905 0.04761905]\n",
      " [0.         0.         0.05263158 ... 0.05263158 0.         0.        ]\n",
      " [0.04       0.04       0.         ... 0.04       0.         0.        ]]\n"
     ]
    }
   ],
   "source": [
    "MatrixA2 = np.matrix(random_matrix(50))\n",
    "print(MatrixA2)\n",
    "#Part 2A.\n",
    "column_sum = np.sum(MatrixA2, axis=1)\n",
    "# combines column sum with Matrix 1 total in order to achieve adjacency Matrix\n",
    "adjMatrix = MatrixA2 / column_sum\n",
    "#print(np.array(adjMatrix))\n",
    "modadjMatrixn50 = np.matrix(adjMatrix)\n",
    "print(modadjMatrixn50)"
   ]
  },
  {
   "cell_type": "code",
   "execution_count": 14,
   "metadata": {},
   "outputs": [
    {
     "name": "stdout",
     "output_type": "stream",
     "text": [
      "3.24E-03\n",
      "4.09E-03\n"
     ]
    }
   ],
   "source": [
    "#TIME FOR N=50\n",
    "start_time = time.time()\n",
    "Method1(.85,50,modadjMatrixn50,np.ones(50))\n",
    "Method1n50_cost = ((time.time() - start_time))\n",
    "print(\"%.2E\" %Method1n50_cost)\n",
    "\n",
    "Method2(.85,50,modadjMatrixn50,np.ones((50,50)))\n",
    "Method2n50_cost = ((time.time() - start_time))\n",
    "print(\"%.2E\" % Method2n50_cost)"
   ]
  },
  {
   "cell_type": "code",
   "execution_count": 15,
   "metadata": {},
   "outputs": [
    {
     "name": "stdout",
     "output_type": "stream",
     "text": [
      "[[0. 0. 0. ... 0. 0. 0.]\n",
      " [0. 0. 1. ... 1. 0. 0.]\n",
      " [0. 1. 0. ... 1. 0. 1.]\n",
      " ...\n",
      " [0. 1. 1. ... 0. 0. 1.]\n",
      " [0. 0. 0. ... 0. 0. 1.]\n",
      " [0. 0. 1. ... 1. 1. 0.]]\n",
      "[[0.         0.         0.         ... 0.         0.         0.        ]\n",
      " [0.         0.         0.02083333 ... 0.02083333 0.         0.        ]\n",
      " [0.         0.01785714 0.         ... 0.01785714 0.         0.01785714]\n",
      " ...\n",
      " [0.         0.01754386 0.01754386 ... 0.         0.         0.01754386]\n",
      " [0.         0.         0.         ... 0.         0.         0.02222222]\n",
      " [0.         0.         0.01960784 ... 0.01960784 0.01960784 0.        ]]\n"
     ]
    }
   ],
   "source": [
    "MatrixA3 = np.matrix(random_matrix(100))\n",
    "print(MatrixA3)\n",
    "#Part 2A.\n",
    "column_sum = np.sum(MatrixA3, axis=1)\n",
    "# combines column sum with Matrix 1 total in order to achieve adjacency Matrix\n",
    "adjMatrix = MatrixA3 / column_sum\n",
    "#print(np.array(adjMatrix))\n",
    "modadjMatrixn100 = np.matrix(adjMatrix)\n",
    "print(modadjMatrixn100)"
   ]
  },
  {
   "cell_type": "code",
   "execution_count": 16,
   "metadata": {},
   "outputs": [
    {
     "name": "stdout",
     "output_type": "stream",
     "text": [
      "1.00E-02\n",
      "1.14E-02\n"
     ]
    }
   ],
   "source": [
    "#TIME FOR N=100\n",
    "start_time = time.time()\n",
    "Method1(.85,100,modadjMatrixn100,np.ones(100))\n",
    "Method1n100_cost = ((time.time() - start_time))\n",
    "print(\"%.2E\" %Method1n100_cost)\n",
    "\n",
    "Method2(.85,100,modadjMatrixn100,np.ones((100,100)))\n",
    "Method2n100_cost = ((time.time() - start_time))\n",
    "print(\"%.2E\" % Method2n100_cost)"
   ]
  },
  {
   "cell_type": "code",
   "execution_count": 17,
   "metadata": {},
   "outputs": [
    {
     "name": "stdout",
     "output_type": "stream",
     "text": [
      "[[0. 1. 0. ... 1. 0. 0.]\n",
      " [1. 0. 0. ... 0. 0. 1.]\n",
      " [0. 0. 0. ... 1. 0. 0.]\n",
      " ...\n",
      " [1. 0. 1. ... 0. 0. 0.]\n",
      " [0. 0. 0. ... 0. 0. 1.]\n",
      " [0. 1. 0. ... 0. 1. 0.]]\n",
      "[[0.         0.00395257 0.         ... 0.00395257 0.         0.        ]\n",
      " [0.00416667 0.         0.         ... 0.         0.         0.00416667]\n",
      " [0.         0.         0.         ... 0.00371747 0.         0.        ]\n",
      " ...\n",
      " [0.004      0.         0.004      ... 0.         0.         0.        ]\n",
      " [0.         0.         0.         ... 0.         0.         0.00442478]\n",
      " [0.         0.00425532 0.         ... 0.         0.00425532 0.        ]]\n"
     ]
    }
   ],
   "source": [
    "MatrixA4 = np.matrix(random_matrix(500))\n",
    "print(MatrixA4)\n",
    "#Part 2A.\n",
    "column_sum = np.sum(MatrixA4, axis=1)\n",
    "# combines column sum with Matrix 1 total in order to achieve adjacency Matrix\n",
    "adjMatrix = MatrixA4 / column_sum\n",
    "#print(np.array(adjMatrix))\n",
    "modadjMatrixn500 = np.matrix(adjMatrix)\n",
    "print(modadjMatrixn500)"
   ]
  },
  {
   "cell_type": "code",
   "execution_count": 18,
   "metadata": {},
   "outputs": [
    {
     "name": "stdout",
     "output_type": "stream",
     "text": [
      "8.93E-03\n",
      "1.25E-02\n"
     ]
    }
   ],
   "source": [
    "#TIME FOR N=500\n",
    "start_time = time.time()\n",
    "Method1(.85,500,modadjMatrixn500,np.ones(500))\n",
    "Method1n500_cost = ((time.time() - start_time))\n",
    "print(\"%.2E\" %Method1n500_cost)\n",
    "\n",
    "Method2(.85,500,modadjMatrixn500,np.ones((500,500)))\n",
    "Method2n500_cost = ((time.time() - start_time))\n",
    "print(\"%.2E\" % Method2n500_cost)"
   ]
  },
  {
   "cell_type": "code",
   "execution_count": 19,
   "metadata": {},
   "outputs": [
    {
     "name": "stdout",
     "output_type": "stream",
     "text": [
      "[[0. 0. 0. ... 0. 0. 0.]\n",
      " [0. 0. 1. ... 1. 1. 0.]\n",
      " [0. 1. 0. ... 0. 1. 0.]\n",
      " ...\n",
      " [0. 1. 0. ... 0. 0. 0.]\n",
      " [0. 1. 1. ... 0. 0. 1.]\n",
      " [0. 0. 0. ... 0. 1. 0.]]\n",
      "[[0.         0.         0.         ... 0.         0.         0.        ]\n",
      " [0.         0.         0.00200803 ... 0.00200803 0.00200803 0.        ]\n",
      " [0.         0.0019685  0.         ... 0.         0.0019685  0.        ]\n",
      " ...\n",
      " [0.         0.00209205 0.         ... 0.         0.         0.        ]\n",
      " [0.         0.00209205 0.00209205 ... 0.         0.         0.00209205]\n",
      " [0.         0.         0.         ... 0.         0.00200401 0.        ]]\n"
     ]
    }
   ],
   "source": [
    "MatrixA5 = np.matrix(random_matrix(1000))\n",
    "print(MatrixA5)\n",
    "#Part 2A.\n",
    "column_sum = np.sum(MatrixA5, axis=1)\n",
    "# combines column sum with Matrix 1 total in order to achieve adjacency Matrix\n",
    "adjMatrix = MatrixA5 / column_sum\n",
    "#print(np.array(adjMatrix))\n",
    "modadjMatrixn1000 = np.matrix(adjMatrix)\n",
    "print(modadjMatrixn1000)"
   ]
  },
  {
   "cell_type": "code",
   "execution_count": 20,
   "metadata": {},
   "outputs": [
    {
     "name": "stdout",
     "output_type": "stream",
     "text": [
      "3.48E-02\n",
      "5.28E-02\n"
     ]
    }
   ],
   "source": [
    "#TIME FOR N=1000\n",
    "start_time = time.time()\n",
    "Method1(.85,1000,modadjMatrixn1000,np.ones(1000))\n",
    "Method1n1000_cost = ((time.time() - start_time))\n",
    "print(\"%.2E\" %Method1n1000_cost)\n",
    "\n",
    "Method2(.85,1000,modadjMatrixn1000,np.ones((1000,1000)))\n",
    "Method2n1000_cost = ((time.time() - start_time))\n",
    "print(\"%.2E\" % Method2n1000_cost)"
   ]
  },
  {
   "cell_type": "code",
   "execution_count": 21,
   "metadata": {},
   "outputs": [
    {
     "name": "stdout",
     "output_type": "stream",
     "text": [
      "[[0. 0. 1. ... 0. 0. 0.]\n",
      " [0. 0. 1. ... 1. 1. 1.]\n",
      " [1. 1. 0. ... 0. 0. 0.]\n",
      " ...\n",
      " [0. 1. 0. ... 0. 0. 0.]\n",
      " [0. 1. 0. ... 0. 0. 0.]\n",
      " [0. 1. 0. ... 0. 0. 0.]]\n",
      "[[0.         0.         0.00096993 ... 0.         0.         0.        ]\n",
      " [0.         0.         0.00101215 ... 0.00101215 0.00101215 0.00101215]\n",
      " [0.00098425 0.00098425 0.         ... 0.         0.         0.        ]\n",
      " ...\n",
      " [0.         0.00102354 0.         ... 0.         0.         0.        ]\n",
      " [0.         0.00099108 0.         ... 0.         0.         0.        ]\n",
      " [0.         0.001002   0.         ... 0.         0.         0.        ]]\n"
     ]
    }
   ],
   "source": [
    "MatrixA6 = np.matrix(random_matrix(2000))\n",
    "print(MatrixA6)\n",
    "#Part 2A.\n",
    "column_sum = np.sum(MatrixA6, axis=1)\n",
    "# combines column sum with Matrix 1 total in order to achieve adjacency Matrix\n",
    "adjMatrix = MatrixA6 / column_sum\n",
    "#print(np.array(adjMatrix))\n",
    "modadjMatrixn2000 = np.matrix(adjMatrix)\n",
    "print(modadjMatrixn2000)"
   ]
  },
  {
   "cell_type": "code",
   "execution_count": 22,
   "metadata": {},
   "outputs": [
    {
     "name": "stdout",
     "output_type": "stream",
     "text": [
      "1.77E-01\n",
      "2.52E-01\n"
     ]
    }
   ],
   "source": [
    "#TIME FOR N=2000\n",
    "start_time = time.time()\n",
    "Method1(.85,2000,modadjMatrixn2000,np.ones(2000))\n",
    "Method1n2000_cost = ((time.time() - start_time))\n",
    "print(\"%.2E\" %Method1n2000_cost)\n",
    "\n",
    "Method2(.85,2000,modadjMatrixn2000,np.ones((2000,2000)))\n",
    "Method2n2000_cost = ((time.time() - start_time))\n",
    "print(\"%.2E\" % Method2n2000_cost)"
   ]
  },
  {
   "cell_type": "code",
   "execution_count": 23,
   "metadata": {},
   "outputs": [
    {
     "name": "stdout",
     "output_type": "stream",
     "text": [
      "[[0. 1. 0. ... 0. 0. 1.]\n",
      " [1. 0. 0. ... 0. 0. 1.]\n",
      " [0. 0. 0. ... 1. 1. 0.]\n",
      " ...\n",
      " [0. 0. 1. ... 0. 0. 0.]\n",
      " [0. 0. 1. ... 0. 0. 1.]\n",
      " [1. 1. 0. ... 0. 1. 0.]]\n",
      "[[0.         0.00040209 0.         ... 0.         0.         0.00040209]\n",
      " [0.00038971 0.         0.         ... 0.         0.         0.00038971]\n",
      " [0.         0.         0.         ... 0.00039936 0.00039936 0.        ]\n",
      " ...\n",
      " [0.         0.         0.00039968 ... 0.         0.         0.        ]\n",
      " [0.         0.         0.00040096 ... 0.         0.         0.00040096]\n",
      " [0.000409   0.000409   0.         ... 0.         0.000409   0.        ]]\n"
     ]
    }
   ],
   "source": [
    "MatrixA7 = np.matrix(random_matrix(5000))\n",
    "print(MatrixA7)\n",
    "#Part 2A.\n",
    "column_sum = np.sum(MatrixA7, axis=1)\n",
    "# combines column sum with Matrix 1 total in order to achieve adjacency Matrix\n",
    "adjMatrix = MatrixA7 / column_sum\n",
    "#print(np.array(adjMatrix))\n",
    "modadjMatrixn5000 = np.matrix(adjMatrix)\n",
    "print(modadjMatrixn5000)"
   ]
  },
  {
   "cell_type": "code",
   "execution_count": 24,
   "metadata": {},
   "outputs": [
    {
     "name": "stdout",
     "output_type": "stream",
     "text": [
      "1.25E+00\n",
      "1.91E+00\n"
     ]
    }
   ],
   "source": [
    "#TIME FOR N=5000\n",
    "start_time = time.time()\n",
    "Method1(.85,5000,modadjMatrixn5000,np.ones(5000))\n",
    "Method1n5000_cost = ((time.time() - start_time))\n",
    "print(\"%.2E\" %Method1n5000_cost)\n",
    "\n",
    "Method2(.85,5000,modadjMatrixn5000,np.ones((5000,5000)))\n",
    "Method2n5000_cost = ((time.time() - start_time))\n",
    "print(\"%.2E\" % Method2n5000_cost)"
   ]
  },
  {
   "cell_type": "code",
   "execution_count": 25,
   "metadata": {},
   "outputs": [
    {
     "data": {
      "image/png": "[encoded data removed]",
      "text/plain": [
       "<Figure size 432x288 with 1 Axes>"
      ]
     },
     "metadata": {},
     "output_type": "display_data"
    }
   ],
   "source": [
    "#Data from above time gathering methods \n",
    "#Ns are hardcoded in \n",
    "#Both axes set to loglog\n",
    "\n",
    "DirectMethod_time = (Method1n5_cost, Method1n10_cost, Method1n50_cost, Method1n100_cost, Method1n500_cost, Method1n1000_cost, Method1n2000_cost, Method1n5000_cost)\n",
    "N1 = (5, 10, 50, 100, 500, 1000, 2000, 5000)\n",
    "\n",
    "PowerMethod_time = (Method2n5_cost, Method2n10_cost, Method2n50_cost, Method2n100_cost, Method2n500_cost, Method2n1000_cost, Method2n2000_cost, Method2n5000_cost)\n",
    "N2 = (5, 10, 50, 100, 500, 1000, 2000, 5000)\n",
    "\n",
    "\n",
    "fig, ax = plt.subplots()\n",
    "# imports data and plots on same graph BOTH methods\n",
    "plt.plot(N1, DirectMethod_time, label = 'Direct Method', lw=2)\n",
    "plt.plot(N2, PowerMethod_time, label = 'Power Method', lw=2)\n",
    "plt.xlabel('log(N)')\n",
    "plt.ylabel('log(Method Time) Seconds')\n",
    "#Sets graph to  loglog format\n",
    "plt.gca().set_yscale('log')\n",
    "plt.gca().set_xscale('log')\n",
    "\n",
    "plt.legend(loc = \"upper right\")\n",
    "\n",
    "\n",
    "plt.title('Computational Cost')\n",
    "\n",
    "plt.show()"
   ]
  },
  {
   "cell_type": "code",
   "execution_count": 86,
   "metadata": {},
   "outputs": [],
   "source": [
    "#Testing to see how aggresive our termination criterion can be \n",
    "# After testing n = 51,75,85,225,750 determine that for top 10 rank match up sites an error norm becomes 1/n\n",
    "# This makes sense because the larger the n value the lower our error_norm should be\n",
    "\n",
    "def Method2(d,N,M,E):\n",
    "    #establish our guess vector xn1\n",
    "\n",
    "    x_i = np.ones((N))\n",
    "    Mhat = d*M + ((1-d)/N)*E\n",
    "    x_n = np.linalg.norm(x_i)\n",
    "    x1 = x_i / x_n\n",
    "    err = 1.0\n",
    "    while(err > 1E-6):\n",
    "        \n",
    "        xn = np.dot(Mhat, x1)\n",
    "        \n",
    "        #Normalize xn\n",
    "        \n",
    "        xn = (1 / np.linalg.norm(xn)) * xn\n",
    "        \n",
    "        err = np.linalg.norm((xn - x1))\n",
    "        \n",
    "        \n",
    "        \n",
    "        #Renormalize xk vector\n",
    "        \n",
    "        x1 = xn\n",
    "         \n",
    "    \n",
    "    return np.array(xn)"
   ]
  },
  {
   "cell_type": "code",
   "execution_count": 87,
   "metadata": {},
   "outputs": [
    {
     "name": "stdout",
     "output_type": "stream",
     "text": [
      "[[0. 1. 1. ... 0. 0. 0.]\n",
      " [1. 0. 0. ... 0. 1. 0.]\n",
      " [1. 0. 0. ... 0. 0. 1.]\n",
      " ...\n",
      " [0. 0. 0. ... 0. 1. 1.]\n",
      " [0. 1. 0. ... 1. 0. 0.]\n",
      " [0. 0. 1. ... 1. 0. 0.]]\n",
      "[[0.         0.00934579 0.00934579 ... 0.         0.         0.        ]\n",
      " [0.00925926 0.         0.         ... 0.         0.00925926 0.        ]\n",
      " [0.0106383  0.         0.         ... 0.         0.         0.0106383 ]\n",
      " ...\n",
      " [0.         0.         0.         ... 0.         0.00862069 0.00862069]\n",
      " [0.         0.00869565 0.         ... 0.00869565 0.         0.        ]\n",
      " [0.         0.         0.00806452 ... 0.00806452 0.         0.        ]]\n"
     ]
    }
   ],
   "source": [
    "#Part of Trial for part 5 (** ONe TRIAL).\n",
    "MatrixA75 = np.matrix(random_matrix(225))\n",
    "print(MatrixA75)\n",
    "#Part 2A.\n",
    "column_sum = np.sum(MatrixA75, axis=1)\n",
    "# combines column sum with Matrix 1 total in order to achieve adjacency Matrix\n",
    "adjMatrix = MatrixA75 / column_sum\n",
    "#print(np.array(adjMatrix))\n",
    "modadjMatrixn75 = np.matrix(adjMatrix)\n",
    "print(modadjMatrixn75)"
   ]
  }
 ],
 "metadata": {
  "kernelspec": {
   "display_name": "Python 3",
   "language": "python",
   "name": "python3"
  },
  "language_info": {
   "codemirror_mode": {
    "name": "ipython",
    "version": 3
   },
   "file_extension": ".py",
   "mimetype": "text/x-python",
   "name": "python",
   "nbconvert_exporter": "python",
   "pygments_lexer": "ipython3",
   "version": "3.6.8"
  }
 },
 "nbformat": 4,
 "nbformat_minor": 2
}
